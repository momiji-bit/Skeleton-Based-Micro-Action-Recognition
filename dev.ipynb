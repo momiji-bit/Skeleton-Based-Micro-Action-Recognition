{
 "cells": [
  {
   "cell_type": "code",
   "id": "initial_id",
   "metadata": {
    "collapsed": true,
    "ExecuteTime": {
     "end_time": "2025-01-09T14:28:01.385574Z",
     "start_time": "2025-01-09T14:28:00.017847Z"
    }
   },
   "source": [
    "import torch\n",
    "\n",
    "# 加载模型权重\n",
    "# checkpoint = torch.load(\"output/original_48_4w/runs-75-29250.pt\", weights_only=False)\n",
    "# checkpoint = torch.load(\"output/original_48_4w_p0.5/runs-61-23790.pt\", weights_only=False)\n",
    "# checkpoint = torch.load(\"output/original_48_6w/runs-25-9750.pt\", weights_only=False)\n",
    "checkpoint = torch.load(\"output/original_48_6w_s/runs-56-49168.pt\")\n",
    "\n",
    "# 确保 checkpoint 包含模型\n",
    "if 'model' in checkpoint:\n",
    "    model_state_dict = checkpoint['model']\n",
    "else:\n",
    "    model_state_dict = checkpoint\n",
    "\n",
    "# 检查 alpha_attn 的值\n",
    "for name, param in model_state_dict.items():\n",
    "    if \"alpha_attn\" in name:\n",
    "        print(f\"{name}:\\t{param.data.tolist()}\")\n",
    "print()\n",
    "for name, param in model_state_dict.items():\n",
    "    if \"alpha_GConv\" in name:\n",
    "        print(f\"{name}:\\t{param.data.tolist()}\")\n",
    "print()\n",
    "for name, param in model_state_dict.items():\n",
    "    if \"alpha_TConv\" in name:\n",
    "        print(f\"{name}:\\t{param.data.tolist()}\")\n"
   ],
   "outputs": [
    {
     "name": "stdout",
     "output_type": "stream",
     "text": [
      "stages.0.blocks.0.transformer.alpha_attn:\t[0.7145361304283142, 0.5570780634880066, 0.7171137928962708, 0.5263210535049438]\n",
      "stages.0.blocks.1.transformer.alpha_attn:\t[0.7285898327827454, 0.6467169523239136, 0.7546631097793579, 0.600003182888031]\n",
      "stages.1.blocks.0.transformer.alpha_attn:\t[0.52862149477005, 0.6167488098144531, 0.7107602953910828, 0.6140320301055908]\n",
      "stages.1.blocks.1.transformer.alpha_attn:\t[0.641979455947876, 0.6921204924583435, 0.7004455924034119, 0.7182971239089966]\n",
      "stages.2.blocks.0.transformer.alpha_attn:\t[0.5111835598945618, 0.5711363554000854, 0.5746981501579285, 0.6659709811210632]\n",
      "stages.2.blocks.1.transformer.alpha_attn:\t[0.4319503903388977, 0.5159063339233398, 0.5431925654411316, 0.5574215054512024]\n",
      "stages.3.blocks.0.transformer.alpha_attn:\t[0.5417646169662476, 0.5847234129905701, 0.553666353225708, 0.5682243704795837]\n",
      "stages.3.blocks.1.transformer.alpha_attn:\t[0.42549067735671997, 0.46672388911247253, 0.43955570459365845, 0.4707726240158081]\n",
      "\n",
      "stages.0.blocks.0.transformer.alpha_GConv:\t[0.4328916072845459]\n",
      "stages.0.blocks.1.transformer.alpha_GConv:\t[0.5621628165245056]\n",
      "stages.1.blocks.0.transformer.alpha_GConv:\t[0.7763617038726807]\n",
      "stages.1.blocks.1.transformer.alpha_GConv:\t[0.8493832349777222]\n",
      "stages.2.blocks.0.transformer.alpha_GConv:\t[0.6720107197761536]\n",
      "stages.2.blocks.1.transformer.alpha_GConv:\t[0.6439955234527588]\n",
      "stages.3.blocks.0.transformer.alpha_GConv:\t[0.5595560669898987]\n",
      "stages.3.blocks.1.transformer.alpha_GConv:\t[0.4627077877521515]\n",
      "\n",
      "stages.0.blocks.0.transformer.alpha_TConv:\t[1.0587979555130005]\n",
      "stages.0.blocks.1.transformer.alpha_TConv:\t[0.7059085965156555]\n",
      "stages.1.blocks.0.transformer.alpha_TConv:\t[0.468833327293396]\n",
      "stages.1.blocks.1.transformer.alpha_TConv:\t[0.34949320554733276]\n",
      "stages.2.blocks.0.transformer.alpha_TConv:\t[0.2563699781894684]\n",
      "stages.2.blocks.1.transformer.alpha_TConv:\t[0.1295543909072876]\n",
      "stages.3.blocks.0.transformer.alpha_TConv:\t[0.26167619228363037]\n",
      "stages.3.blocks.1.transformer.alpha_TConv:\t[0.16335923969745636]\n"
     ]
    },
    {
     "name": "stderr",
     "output_type": "stream",
     "text": [
      "C:\\Users\\gujih\\miniconda3\\envs\\skateformer\\lib\\site-packages\\tqdm\\auto.py:21: TqdmWarning: IProgress not found. Please update jupyter and ipywidgets. See https://ipywidgets.readthedocs.io/en/stable/user_install.html\n",
      "  from .autonotebook import tqdm as notebook_tqdm\n"
     ]
    }
   ],
   "execution_count": 1
  }
 ],
 "metadata": {
  "kernelspec": {
   "display_name": "Python 3",
   "language": "python",
   "name": "python3"
  },
  "language_info": {
   "codemirror_mode": {
    "name": "ipython",
    "version": 2
   },
   "file_extension": ".py",
   "mimetype": "text/x-python",
   "name": "python",
   "nbconvert_exporter": "python",
   "pygments_lexer": "ipython2",
   "version": "2.7.6"
  }
 },
 "nbformat": 4,
 "nbformat_minor": 5
}
